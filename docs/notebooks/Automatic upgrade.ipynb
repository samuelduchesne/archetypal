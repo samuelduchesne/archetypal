{
 "cells": [
  {
   "cell_type": "code",
   "execution_count": 1,
   "metadata": {},
   "outputs": [],
   "source": [
    "from archetypal import IDF"
   ]
  },
  {
   "cell_type": "code",
   "execution_count": 2,
   "metadata": {},
   "outputs": [
    {
     "name": "stderr",
     "output_type": "stream",
     "text": [
      "Transition #0-RefBldgMediumOfficeNew2004_Chicago.idf: 100%|██████████| 3.00/3.00 [00:30<00:00, 10.1s/it]\n"
     ]
    }
   ],
   "source": [
    "idf = IDF(\n",
    "    r\"C:\\EnergyPlusV8-9-0\\ExampleFiles\\RefBldgMediumOfficeNew2004_Chicago.idf\",  # origin 8.9\n",
    "    epw=r\"C:\\EnergyPlusV9-2-0\\WeatherData\\USA_IL_Chicago-OHare.Intl.AP.725300_TMY3.epw\",\n",
    "    as_version=\"9.2\",\n",
    ")"
   ]
  },
  {
   "cell_type": "code",
   "execution_count": 3,
   "metadata": {
    "scrolled": true
   },
   "outputs": [
    {
     "data": {
      "text/plain": "<IDF object RefBldgMediumOfficeNew2004_Chicago.idf\nat <_io.StringIO object at 0x0000016A9F7C4048>\n\tVersion 9.2\nSimulation Info:\n\tNot yet simulated>"
     },
     "execution_count": 3,
     "metadata": {},
     "output_type": "execute_result"
    }
   ],
   "source": [
    "idf"
   ]
  },
  {
   "cell_type": "code",
   "execution_count": 3,
   "metadata": {},
   "outputs": [],
   "source": []
  }
 ],
 "metadata": {
  "kernelspec": {
   "name": "archetypal",
   "language": "python",
   "display_name": "archetypal"
  },
  "language_info": {
   "codemirror_mode": {
    "name": "ipython",
    "version": 3
   },
   "file_extension": ".py",
   "mimetype": "text/x-python",
   "name": "python",
   "nbconvert_exporter": "python",
   "pygments_lexer": "ipython3",
   "version": "3.7.10"
  },
  "toc": {
   "base_numbering": 1,
   "nav_menu": {},
   "number_sections": true,
   "sideBar": true,
   "skip_h1_title": false,
   "title_cell": "Table of Contents",
   "title_sidebar": "Contents",
   "toc_cell": false,
   "toc_position": {},
   "toc_section_display": true,
   "toc_window_display": false
  }
 },
 "nbformat": 4,
 "nbformat_minor": 4
}